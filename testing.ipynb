{
 "cells": [
  {
   "cell_type": "code",
   "execution_count": 1,
   "metadata": {
    "collapsed": true
   },
   "outputs": [],
   "source": [
    "# http://www.kdd.org/exploration_files/KDDCUP2005Report_Shen.pdf\n",
    "# http://research.microsoft.com/pubs/81350/sigir09.pdf\n",
    "# http://research.microsoft.com/pubs/79487/Query%20Enrichment%20for%20Web-query%20Classification.Shen.HKUST.TOIS.2006.Paper.pdf\n",
    "%matplotlib inline\n",
    "\n",
    "import pandas as pd\n",
    "import numpy as np\n",
    "\n",
    "import glob\n",
    "\n",
    "from textblob import TextBlob\n",
    "from nltk.tag import pos_tag\n",
    "\n",
    "import matplotlib.pyplot as plt\n",
    "import plotly.plotly as py"
   ]
  },
  {
   "cell_type": "code",
   "execution_count": 2,
   "metadata": {
    "collapsed": true
   },
   "outputs": [],
   "source": [
    "df = pd.read_csv('data/queries.csv',index_col=0)"
   ]
  },
  {
   "cell_type": "code",
   "execution_count": null,
   "metadata": {
    "collapsed": false
   },
   "outputs": [
    {
     "name": "stderr",
     "output_type": "stream",
     "text": [
      "/Users/jamesbain/anaconda/lib/python3.5/site-packages/sklearn/multiclass.py:70: UserWarning:\n",
      "\n",
      "Label 0 is present in all training examples.\n",
      "\n",
      "/Users/jamesbain/anaconda/lib/python3.5/site-packages/sklearn/multiclass.py:70: UserWarning:\n",
      "\n",
      "Label 1 is present in all training examples.\n",
      "\n",
      "/Users/jamesbain/anaconda/lib/python3.5/site-packages/sklearn/multiclass.py:70: UserWarning:\n",
      "\n",
      "Label 2 is present in all training examples.\n",
      "\n",
      "/Users/jamesbain/anaconda/lib/python3.5/site-packages/sklearn/multiclass.py:70: UserWarning:\n",
      "\n",
      "Label 3 is present in all training examples.\n",
      "\n",
      "/Users/jamesbain/anaconda/lib/python3.5/site-packages/sklearn/multiclass.py:70: UserWarning:\n",
      "\n",
      "Label not 23 is present in all training examples.\n",
      "\n"
     ]
    }
   ],
   "source": [
    "from sklearn.multiclass import OneVsRestClassifier\n",
    "from sklearn.svm import SVC\n",
    "from sklearn.preprocessing import MultiLabelBinarizer\n",
    "y = MultiLabelBinarizer().fit_transform(df['categories'])\n",
    "x = np.array(df['char_count'])\n",
    "x =x.reshape(-1,1)\n",
    "\n",
    "newy= y[0:10]\n",
    "newx = x[0:10]\n",
    "clf = OneVsRestClassifier(SVC(kernel='poly'))\n",
    "clf.fit(newx, newy)\n",
    "clf.predict(newx)"
   ]
  },
  {
   "cell_type": "code",
   "execution_count": null,
   "metadata": {
    "collapsed": true
   },
   "outputs": [],
   "source": []
  }
 ],
 "metadata": {
  "kernelspec": {
   "display_name": "Python 3",
   "language": "python",
   "name": "python3"
  },
  "language_info": {
   "codemirror_mode": {
    "name": "ipython",
    "version": 3
   },
   "file_extension": ".py",
   "mimetype": "text/x-python",
   "name": "python",
   "nbconvert_exporter": "python",
   "pygments_lexer": "ipython3",
   "version": "3.5.1"
  }
 },
 "nbformat": 4,
 "nbformat_minor": 0
}
