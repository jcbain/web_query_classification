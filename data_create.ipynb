{
 "cells": [
  {
   "cell_type": "code",
   "execution_count": 204,
   "metadata": {
    "collapsed": true
   },
   "outputs": [],
   "source": [
    "# http://www.kdd.org/exploration_files/KDDCUP2005Report_Shen.pdf\n",
    "# http://research.microsoft.com/pubs/81350/sigir09.pdf\n",
    "import pandas as pd\n",
    "import numpy as np\n",
    "\n",
    "import glob\n",
    "\n",
    "from textblob import TextBlob\n",
    "from nltk.tag import pos_tag\n"
   ]
  },
  {
   "cell_type": "code",
   "execution_count": 72,
   "metadata": {
    "collapsed": false
   },
   "outputs": [],
   "source": [
    "###########################################\n",
    "# create a function to combine data files #\n",
    "###########################################\n",
    "\n",
    "def frame_masher():\n",
    "    # find all of the query files\n",
    "    query_files = glob.glob('data/Labeled800Queries/*')\n",
    "    \n",
    "    # empty list to add data frames to\n",
    "    frame_list = []\n",
    "    \n",
    "    # iterate through the files to create one combined date frame\n",
    "    for frame in query_files:\n",
    "        h = ['query','lab1','lab2','lab3','lab4','lab5' ]\n",
    "        df = pd.read_csv(frame,header=None, delimiter='\\t')\n",
    "        df.columns = h\n",
    "        frame_list.append(df)\n",
    "    joined = pd.concat(frame_list).reset_index()\n",
    "    final = joined.drop('index',axis = 1)\n",
    "    return final"
   ]
  },
  {
   "cell_type": "code",
   "execution_count": 74,
   "metadata": {
    "collapsed": false
   },
   "outputs": [],
   "source": [
    "# create the frame\n",
    "df = frame_masher()"
   ]
  },
  {
   "cell_type": "code",
   "execution_count": 110,
   "metadata": {
    "collapsed": false
   },
   "outputs": [],
   "source": [
    "###############################################################\n",
    "# create a function to count how many words are in each query #\n",
    "###############################################################\n",
    "\n",
    "def word_counter():\n",
    "    \n",
    "    # create an empty list to add each row's value \n",
    "    word_count = []\n",
    "    \n",
    "    # iterate through each query, split it up and count the words\n",
    "    for i in df['query']:\n",
    "        count = len(i.split())\n",
    "        word_count.append(count)\n",
    "    return word_count"
   ]
  },
  {
   "cell_type": "code",
   "execution_count": 117,
   "metadata": {
    "collapsed": false
   },
   "outputs": [],
   "source": [
    "######################################################################################\n",
    "# create a function that informs us of whether or not there are numbers in the query #\n",
    "######################################################################################\n",
    "\n",
    "def hasNumbers(inputString):\n",
    "    return any(char.isdigit() for char in inputString)"
   ]
  },
  {
   "cell_type": "code",
   "execution_count": 133,
   "metadata": {
    "collapsed": false
   },
   "outputs": [],
   "source": [
    "###########################################################\n",
    "# create a function to apply the hasNumbers to each query #\n",
    "###########################################################\n",
    "\n",
    "def has_num():\n",
    "    number = []\n",
    "    for i in df['query']:\n",
    "        num = hasNumbers(i)\n",
    "        number.append(num)\n",
    "    return number"
   ]
  },
  {
   "cell_type": "code",
   "execution_count": 139,
   "metadata": {
    "collapsed": true
   },
   "outputs": [],
   "source": [
    "#######################################################\n",
    "# create a function to count the characters per query #\n",
    "#######################################################\n",
    "\n",
    "def char_counter():\n",
    "    char_count = []\n",
    "    for string in df['query']:\n",
    "        count = len(string)\n",
    "        char_count.append(count)\n",
    "    return char_count "
   ]
  },
  {
   "cell_type": "code",
   "execution_count": 202,
   "metadata": {
    "collapsed": false
   },
   "outputs": [],
   "source": [
    "#######################################\n",
    "# count the parts of speech per query #\n",
    "#######################################\n",
    "\n",
    "def partOfSpeechCounter(p='NN'): # others include 'VB' and 'IN'\n",
    "    part_count = []\n",
    "    for q in df['query']:\n",
    "        tagged = pos_tag(q.split())\n",
    "        part = [word for word,pos in tagged if pos == p]\n",
    "        part_count.append(len(part))\n",
    "    return part_count"
   ]
  },
  {
   "cell_type": "code",
   "execution_count": 203,
   "metadata": {
    "collapsed": false
   },
   "outputs": [],
   "source": [
    "df['word_count'] = word_counter()\n",
    "df['has_num'] = has_num()\n",
    "df['char_count']=char_counter()\n",
    "df['char_per_word'] =df['char_count']/df['word_count']"
   ]
  },
  {
   "cell_type": "code",
   "execution_count": 205,
   "metadata": {
    "collapsed": false
   },
   "outputs": [],
   "source": [
    "df['noun_count'] = partOfSpeechCounter()\n",
    "df['verb_count'] = partOfSpeechCounter('VB')\n",
    "df['prep_count'] = partOfSpeechCounter('IN')"
   ]
  },
  {
   "cell_type": "code",
   "execution_count": 207,
   "metadata": {
    "collapsed": false
   },
   "outputs": [],
   "source": [
    "df.to_csv('data/queries.csv') # write to csv"
   ]
  },
  {
   "cell_type": "code",
   "execution_count": null,
   "metadata": {
    "collapsed": true
   },
   "outputs": [],
   "source": []
  }
 ],
 "metadata": {
  "kernelspec": {
   "display_name": "Python 3",
   "language": "python",
   "name": "python3"
  },
  "language_info": {
   "codemirror_mode": {
    "name": "ipython",
    "version": 3
   },
   "file_extension": ".py",
   "mimetype": "text/x-python",
   "name": "python",
   "nbconvert_exporter": "python",
   "pygments_lexer": "ipython3",
   "version": "3.5.1"
  }
 },
 "nbformat": 4,
 "nbformat_minor": 0
}
