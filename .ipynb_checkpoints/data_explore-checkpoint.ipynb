{
 "cells": [
  {
   "cell_type": "code",
   "execution_count": 204,
   "metadata": {
    "collapsed": true
   },
   "outputs": [],
   "source": [
    "# http://www.kdd.org/exploration_files/KDDCUP2005Report_Shen.pdf\n",
    "# http://research.microsoft.com/pubs/81350/sigir09.pdf\n",
    "import pandas as pd\n",
    "import numpy as np\n",
    "\n",
    "import glob\n",
    "\n",
    "from textblob import TextBlob\n",
    "from nltk.tag import pos_tag\n"
   ]
  },
  {
   "cell_type": "code",
   "execution_count": 72,
   "metadata": {
    "collapsed": false
   },
   "outputs": [],
   "source": [
    "def frame_masher():\n",
    "    query_files = glob.glob('data/Labeled800Queries/*')\n",
    "    frame_list = []\n",
    "    \n",
    "    for frame in query_files:\n",
    "        h = ['query','lab1','lab2','lab3','lab4','lab5' ]\n",
    "        df = pd.read_csv(frame,header=None, delimiter='\\t')\n",
    "        df.columns = h\n",
    "        frame_list.append(df)\n",
    "    joined = pd.concat(frame_list).reset_index()\n",
    "    final = joined.drop('index',axis = 1)\n",
    "    return final"
   ]
  },
  {
   "cell_type": "code",
   "execution_count": 74,
   "metadata": {
    "collapsed": false
   },
   "outputs": [],
   "source": [
    "df = frame_masher()"
   ]
  },
  {
   "cell_type": "code",
   "execution_count": 110,
   "metadata": {
    "collapsed": false
   },
   "outputs": [],
   "source": [
    "def word_counter():\n",
    "    word_count = []\n",
    "    for i in df['query']:\n",
    "        count = len(i.split())\n",
    "        word_count.append(count)\n",
    "    return word_count"
   ]
  },
  {
   "cell_type": "code",
   "execution_count": 112,
   "metadata": {
    "collapsed": false
   },
   "outputs": [],
   "source": []
  },
  {
   "cell_type": "code",
   "execution_count": 117,
   "metadata": {
    "collapsed": false
   },
   "outputs": [],
   "source": [
    "def hasNumbers(inputString):\n",
    "    return any(char.isdigit() for char in inputString)"
   ]
  },
  {
   "cell_type": "code",
   "execution_count": 133,
   "metadata": {
    "collapsed": false
   },
   "outputs": [],
   "source": [
    "def has_num():\n",
    "    number = []\n",
    "    for i in df['query']:\n",
    "        num = hasNumbers(i)\n",
    "        number.append(num)\n",
    "    return number"
   ]
  },
  {
   "cell_type": "code",
   "execution_count": 139,
   "metadata": {
    "collapsed": true
   },
   "outputs": [],
   "source": [
    "def char_counter():\n",
    "    char_count = []\n",
    "    for string in df['query']:\n",
    "        count = len(string)\n",
    "        char_count.append(count)\n",
    "    return char_count "
   ]
  },
  {
   "cell_type": "code",
   "execution_count": 202,
   "metadata": {
    "collapsed": false
   },
   "outputs": [],
   "source": [
    "def partOfSpeechCounter(p='NN'):\n",
    "    part_count = []\n",
    "    for q in df['query']:\n",
    "        tagged = pos_tag(q.split())\n",
    "        part = [word for word,pos in tagged if pos == p]\n",
    "        part_count.append(len(part))\n",
    "    return part_count"
   ]
  },
  {
   "cell_type": "code",
   "execution_count": 203,
   "metadata": {
    "collapsed": false
   },
   "outputs": [],
   "source": [
    "df['word_count'] = word_counter()\n",
    "df['has_num'] = has_num()\n",
    "df['char_count']=char_counter()\n",
    "df['char_per_word'] =df['char_count']/df['word_count']"
   ]
  },
  {
   "cell_type": "code",
   "execution_count": 205,
   "metadata": {
    "collapsed": false
   },
   "outputs": [],
   "source": [
    "df['noun_count'] = partOfSpeechCounter()\n",
    "df['verb_count'] = partOfSpeechCounter('VB')\n",
    "df['prep_count'] = partOfSpeechCounter('IN')"
   ]
  },
  {
   "cell_type": "code",
   "execution_count": 207,
   "metadata": {
    "collapsed": false
   },
   "outputs": [],
   "source": [
    "df.to_csv('data/queries.csv')"
   ]
  },
  {
   "cell_type": "code",
   "execution_count": null,
   "metadata": {
    "collapsed": true
   },
   "outputs": [],
   "source": []
  }
 ],
 "metadata": {
  "kernelspec": {
   "display_name": "Python 3",
   "language": "python",
   "name": "python3"
  },
  "language_info": {
   "codemirror_mode": {
    "name": "ipython",
    "version": 3
   },
   "file_extension": ".py",
   "mimetype": "text/x-python",
   "name": "python",
   "nbconvert_exporter": "python",
   "pygments_lexer": "ipython3",
   "version": "3.5.1"
  }
 },
 "nbformat": 4,
 "nbformat_minor": 0
}
